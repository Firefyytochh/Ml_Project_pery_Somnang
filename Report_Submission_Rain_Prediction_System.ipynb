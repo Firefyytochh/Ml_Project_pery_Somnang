{
  "nbformat": 4,
  "nbformat_minor": 0,
  "metadata": {
    "colab": {
      "provenance": []
    },
    "kernelspec": {
      "name": "python3",
      "display_name": "Python 3"
    },
    "language_info": {
      "name": "python"
    }
  },
  "cells": [
    {
      "cell_type": "markdown",
      "source": [
        "# Report Submission: Rain Prediction System\n",
        "#Dataset\n",
        "This project utilized multiple reputable sources to gather comprehensive weather data, including the OpenWeatherMap API (Historical Data), NASA GPM Precipitation Data, the World Bank Climate Portal (Cambodia), and various Kaggle global weather datasets. These diverse sources ensured a broad spectrum of historical and real-time meteorological information relevant for rain prediction.\n",
        "\n",
        "#Methodology\n",
        "Collected data was cleaned and preprocessed by handling missing values, normalizing features, and structuring the dataset to suit machine learning requirements. To robustly evaluate model performance and avoid overfitting, the dataset was split into training, validation, and test subsets. This allowed effective model training, tuning, and unbiased final assessment.\n",
        "\n",
        "#Model Selection\n",
        "Several machine learning models were implemented and evaluated for the rain detection task. Logistic Regression served as a simple baseline model offering interpretability and a performance benchmark. Random Forest was employed to capture nonlinear relationships and reduce overfitting through ensemble methods. Support Vector Machine (SVM) was tested for its strong classification capabilities, especially on small to medium-sized datasets. Additionally, Long Short-Term Memory (LSTM) neural networks were utilized to capture temporal dependencies inherent in time-series weather data, aiming to improve predictive accuracy by leveraging sequential patterns. Each model was trained and compared under consistent conditions to identify the most suitable approach for rainfall prediction."
      ],
      "metadata": {
        "id": "qByGA2qqpfeh"
      }
    }
  ]
}
